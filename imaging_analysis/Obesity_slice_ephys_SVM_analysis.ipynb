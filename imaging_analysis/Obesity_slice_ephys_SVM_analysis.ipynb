{
 "cells": [
  {
   "cell_type": "code",
   "execution_count": null,
   "metadata": {
    "collapsed": false,
    "deletable": true,
    "editable": true
   },
   "outputs": [],
   "source": [
    "## code was written using Python 2.7.13 ##\n",
    "import warnings\n",
    "warnings.filterwarnings('ignore')\n",
    "import numpy as np #v1.14.4\n",
    "np.set_printoptions(threshold=np.nan)\n",
    "import matplotlib.pyplot as plt #v1.5.1\n",
    "%matplotlib inline\n",
    "import pandas as pd #0.23.0\n",
    "import sklearn #0.18.1\n",
    "from sklearn import svm\n",
    "from sklearn.svm import SVC\n",
    "from sklearn.grid_search import GridSearchCV"
   ]
  },
  {
   "cell_type": "code",
   "execution_count": null,
   "metadata": {
    "collapsed": false,
    "deletable": true,
    "editable": true,
    "scrolled": true
   },
   "outputs": [],
   "source": [
    "%cd 'C:\\Users\\Stuber Lab\\Desktop\\Raw data\\obesity slice ephys'\n",
    "data=pd.read_excel('Excitability summary.xlsx')\n",
    "summarydata=pd.DataFrame(data)\n",
    "headers=list(summarydata.columns.values)\n",
    "summarydata=summarydata.replace(['eYFP','none'],[1,0])\n",
    "summarydata=summarydata.replace(['Control','High Fat'],[0,1])"
   ]
  },
  {
   "cell_type": "code",
   "execution_count": null,
   "metadata": {
    "collapsed": false,
    "deletable": true,
    "editable": true,
    "scrolled": true
   },
   "outputs": [],
   "source": [
    "##Use SVM to classify data ###\n",
    "def ephys_svm(filename,predict,params,iterations,test_data):\n",
    "    parameters = [{'C': [0.001, .01,.1,1,10,100,1000], 'kernel': ['linear']},\n",
    "                  {'C': [0.001, .01,.1,1,10,100,1000], 'gamma': [0.001, .01,.1,1,10,100,1000], 'kernel': ['rbf']}]  \n",
    "    df=summarydata[summarydata.label != label_tag]\n",
    "    combined=params+predict\n",
    "    df=df[combined].dropna()\n",
    "    pred_score=np.nan*np.zeros((iterations))\n",
    "    rand_score=np.nan*np.zeros((iterations))\n",
    "    for i in range(iterations):\n",
    "        print '\\nRun #: ', i+1\n",
    "        ## if splits result in insufficient data to classify, skip split and move on ##\n",
    "        try:\n",
    "            ##randomly subset df into test and train sets\n",
    "            msk = np.random.rand(len(df))>test_data\n",
    "            train = df[msk]\n",
    "            ##use gridsearch to select optimal parameters for each run\n",
    "            clf = GridSearchCV(SVC(), parameters,cv=10)\n",
    "            train_labels=train[predict].values\n",
    "            c,r=train_labels.shape\n",
    "            train_labels=train_labels.reshape(c,)\n",
    "            clf.fit(train[params], train_labels)\n",
    "            print 'prediction accuracy = ', clf.best_score_\n",
    "            pred_score[i]=(clf.best_score_)*100\n",
    "            ##random array of 1s and 0s for testing classifier\n",
    "            rand_group=pd.DataFrame(np.random.randint(2,size=train.shape[0]))\n",
    "            clf.fit(train[params], rand_group[0])\n",
    "            print 'shuffled accuracy = ', clf.best_score_\n",
    "            rand_score[i]=(clf.best_score_)*100\n",
    "        except Exception:\n",
    "            pass\n",
    "    plt.figure(figsize=(5,5))\n",
    "    ax=plt.subplot(111)\n",
    "    n = np.arange(1,len(pred_score)+1) / np.float(len(pred_score))\n",
    "    Xs = np.sort(pred_score)\n",
    "    plt.step(Xs,n,color='g',label='Model prediction',alpha=0.7,linewidth=2)\n",
    "    n2= np.arange(1,len(rand_score)+1) / np.float(len(rand_score))\n",
    "    Xs2= np.sort(rand_score)\n",
    "    plt.step(Xs2,n,color='r',label='Random',alpha=0.7,linewidth=2)\n",
    "    ax.set_axis_bgcolor('white')\n",
    "    plt.xlabel('Decoding accuracy %',fontsize=14)\n",
    "    plt.ylabel('Proportion of runs',fontsize=14)\n",
    "    plt.legend(fontsize=14,loc=2)\n",
    "    plt.savefig(filename+str(iterations)+str('iter_')+str(test_data)+'test_data_prediction_accuracy_CDF.pdf')\n",
    "    np.savetxt(filename+str(iterations)+str('iter_')+str(test_data)+'_prediction_accuracy.csv',pred_score,delimiter=',')\n",
    "    np.savetxt(filename+str(iterations)+str('iter_')+str(test_data)+'_RANDOM_prediction_accuracy.csv',rand_score,delimiter=',')\n",
    "    plt.show()\n",
    "    print \"mean decoding accuracy = \", np.nanmean(pred_score)\n",
    "    print \"mean RANDOM decoding accuracy = \",np.nanmean(rand_score)\n",
    "#     return pred_score,rand_score"
   ]
  },
  {
   "cell_type": "code",
   "execution_count": null,
   "metadata": {
    "collapsed": false,
    "deletable": true,
    "editable": true
   },
   "outputs": [],
   "source": [
    "### Run SVM for eYFP+ cells to predict group based on rheo and max latency ###\n",
    "label_tag=0  ## Choose 0 for eYFP+ or 1 for eYFP- ##\n",
    "filename='test_function_YFP+'\n",
    "predict=['group'] ## group=high fat/control\n",
    "params=['rheo','max latency'] ## choose params to use for classification \n",
    "iterations=1000\n",
    "test_data=.1  #defines split for test/train sets\n",
    "#####\n",
    "\n",
    "ephys_svm(filename,predict,params,iterations,test_data)"
   ]
  },
  {
   "cell_type": "code",
   "execution_count": null,
   "metadata": {
    "collapsed": false,
    "deletable": true,
    "editable": true
   },
   "outputs": [],
   "source": [
    "### Run SVM for eYFP- cells to predict group based on rheo and max latency ###\n",
    "label_tag=1  ## Choose 0 for eYFP+ or 1 for eYFP- ##\n",
    "filename='test_function_YFP-'\n",
    "predict=['group'] ## group=high fat/control\n",
    "params=['rheo','max latency'] ## choose params to use for classification \n",
    "iterations=1000\n",
    "test_data=.1  #defines split for test/train sets\n",
    "#####\n",
    "\n",
    "ephys_svm(filename,predict,params,iterations,test_data)"
   ]
  }
 ],
 "metadata": {
  "kernelspec": {
   "display_name": "Python 2",
   "language": "python",
   "name": "python2"
  },
  "language_info": {
   "codemirror_mode": {
    "name": "ipython",
    "version": 2
   },
   "file_extension": ".py",
   "mimetype": "text/x-python",
   "name": "python",
   "nbconvert_exporter": "python",
   "pygments_lexer": "ipython2",
   "version": "2.7.13"
  }
 },
 "nbformat": 4,
 "nbformat_minor": 0
}
